{
 "cells": [
  {
   "cell_type": "code",
   "execution_count": 1,
   "metadata": {},
   "outputs": [],
   "source": [
    "from bs4 import BeautifulSoup\n",
    "import re\n",
    "import requests"
   ]
  },
  {
   "cell_type": "code",
   "execution_count": 39,
   "metadata": {},
   "outputs": [],
   "source": [
    "\"\"\"\n",
    "    get data in format\n",
    "    [\n",
    "        {\n",
    "            title : \"Title\"\n",
    "            numbers : ['0949262213' , '98616513113']\n",
    "        }\n",
    "    ]\n",
    "\"\"\"\n",
    "headers = {\n",
    "    'User-Agent' : 'Mozilla/5.0 (Windows NT 6.1; Win64; x64; rv:47.0) Gecko/20100101 Firefox/47.0'\n",
    "}\n",
    "links = ['https://www.classic.com.np','https://nepalinsurance.com.np']"
   ]
  },
  {
   "cell_type": "code",
   "execution_count": 65,
   "metadata": {},
   "outputs": [
    {
     "name": "stdout",
     "output_type": "stream",
     "text": [
      "<class 'tuple'>\n",
      "[('', '1116901'), ('', '1116901'), (' 9801004477', ''), (' 9802622303', ''), (' 9802922301', ''), (' 9802922304', ''), (' 9801006633', ''), ('', '1451414'), ('', '9096591'), ('', '1589108')]\n"
     ]
    }
   ],
   "source": [
    "data = []\n",
    "\n",
    "for link in links:\n",
    "    html = requests.get(link, headers=headers).text\n",
    "    soup = BeautifulSoup(html,'lxml')\n",
    "    title = soup.find('title').text.strip()\n",
    "    numbers = re.findall(r'(\\s*98\\d{8}\\s*)|(\\d{7})',html)\n",
    "    data.append(\n",
    "        {\n",
    "            'title' : title,\n",
    "            'numbers' : numbers\n",
    "        }  \n",
    "    )\n",
    "\n",
    "print(type(data[0]['numbers'][1]))\n",
    "print(data[0]['numbers'])"
   ]
  },
  {
   "cell_type": "code",
   "execution_count": null,
   "metadata": {},
   "outputs": [],
   "source": []
  }
 ],
 "metadata": {
  "kernelspec": {
   "display_name": "Python 3",
   "language": "python",
   "name": "python3"
  },
  "language_info": {
   "codemirror_mode": {
    "name": "ipython",
    "version": 3
   },
   "file_extension": ".py",
   "mimetype": "text/x-python",
   "name": "python",
   "nbconvert_exporter": "python",
   "pygments_lexer": "ipython3",
   "version": "3.8.5"
  }
 },
 "nbformat": 4,
 "nbformat_minor": 4
}
